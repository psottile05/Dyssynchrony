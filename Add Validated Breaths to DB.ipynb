{
 "cells": [
  {
   "cell_type": "code",
   "execution_count": 1,
   "metadata": {
    "collapsed": false
   },
   "outputs": [],
   "source": [
    "from pymongo import MongoClient\n",
    "import pymongo\n",
    "import pandas as pd\n",
    "import os\n",
    "import numpy as np\n",
    "\n",
    "\n",
    "%matplotlib inline"
   ]
  },
  {
   "cell_type": "code",
   "execution_count": 2,
   "metadata": {
    "collapsed": false
   },
   "outputs": [],
   "source": [
    "path = r'E:\\Research_Data\\Vent_Dyssynchrony\\Data\\Old_Data\\Analyzed_Data\\\\'\n"
   ]
  },
  {
   "cell_type": "code",
   "execution_count": 3,
   "metadata": {
    "collapsed": false
   },
   "outputs": [],
   "source": [
    "validated_breaths = pd.read_csv(path + 'Validated_Data_v1.csv')\n"
   ]
  },
  {
   "cell_type": "code",
   "execution_count": 4,
   "metadata": {
    "collapsed": false
   },
   "outputs": [
    {
     "data": {
      "text/html": [
       "<div style=\"max-height:1000px;max-width:1500px;overflow:auto;\">\n",
       "<table border=\"1\" class=\"dataframe\">\n",
       "  <thead>\n",
       "    <tr style=\"text-align: right;\">\n",
       "      <th></th>\n",
       "      <th>Study ID</th>\n",
       "      <th>Breath</th>\n",
       "      <th>breath_type</th>\n",
       "      <th>validation</th>\n",
       "    </tr>\n",
       "  </thead>\n",
       "  <tbody>\n",
       "    <tr>\n",
       "      <th>0</th>\n",
       "      <td>P101</td>\n",
       "      <td>40807</td>\n",
       "      <td>DS</td>\n",
       "      <td>d</td>\n",
       "    </tr>\n",
       "    <tr>\n",
       "      <th>1</th>\n",
       "      <td>P107</td>\n",
       "      <td>5892</td>\n",
       "      <td>DS</td>\n",
       "      <td>d</td>\n",
       "    </tr>\n",
       "    <tr>\n",
       "      <th>2</th>\n",
       "      <td>P101</td>\n",
       "      <td>41164</td>\n",
       "      <td>DS</td>\n",
       "      <td>i</td>\n",
       "    </tr>\n",
       "    <tr>\n",
       "      <th>3</th>\n",
       "      <td>P101</td>\n",
       "      <td>21301</td>\n",
       "      <td>DS</td>\n",
       "      <td>d, f</td>\n",
       "    </tr>\n",
       "    <tr>\n",
       "      <th>4</th>\n",
       "      <td>P101</td>\n",
       "      <td>41641</td>\n",
       "      <td>DS</td>\n",
       "      <td>d, f</td>\n",
       "    </tr>\n",
       "  </tbody>\n",
       "</table>\n",
       "</div>"
      ],
      "text/plain": [
       "  Study ID  Breath breath_type validation\n",
       "0     P101   40807          DS          d\n",
       "1     P107    5892          DS          d\n",
       "2     P101   41164          DS          i\n",
       "3     P101   21301          DS       d, f\n",
       "4     P101   41641          DS       d, f"
      ]
     },
     "execution_count": 4,
     "metadata": {},
     "output_type": "execute_result"
    }
   ],
   "source": [
    "validated_breaths.rename(columns={'Study_ID':'Study ID', 'breath_count':'Breath'}, inplace=True)\n",
    "validated_breaths.head()"
   ]
  },
  {
   "cell_type": "code",
   "execution_count": 5,
   "metadata": {
    "collapsed": false
   },
   "outputs": [
    {
     "name": "stdout",
     "output_type": "stream",
     "text": [
      "P101\n",
      "P107\n",
      "P103\n",
      "P105\n",
      "P109\n",
      "P108\n",
      "P100\n",
      "P106\n",
      "P102\n"
     ]
    }
   ],
   "source": [
    "patients = validated_breaths['Study ID'].unique().tolist()\n",
    "breath_data = pd.read_csv(path+ 'P100WaveformEdited.csv', header=0, usecols=['Study ID', 'Date_HH:MM:SS', 'Time(ms)', 'Breath'])\n",
    "t=[]\n",
    "\n",
    "for patient in patients:\n",
    "    print(patient)\n",
    "    temp = pd.read_csv(path + patient + 'WaveformEdited.csv', header=0, usecols=['Study ID', 'Date_HH:MM:SS', 'Time(ms)', 'Breath'])\n",
    "    t.append(temp)\n",
    "    \n",
    "breath_data = pd.concat(t)"
   ]
  },
  {
   "cell_type": "code",
   "execution_count": 6,
   "metadata": {
    "collapsed": false
   },
   "outputs": [
    {
     "data": {
      "text/plain": [
       "array(['P101', 'P107', 'P103', 'P105', 'P109', 'P108', 'P100', 'P106',\n",
       "       'P102'], dtype=object)"
      ]
     },
     "execution_count": 6,
     "metadata": {},
     "output_type": "execute_result"
    }
   ],
   "source": [
    "breath_data['Study ID'].unique()"
   ]
  },
  {
   "cell_type": "code",
   "execution_count": 7,
   "metadata": {
    "collapsed": false
   },
   "outputs": [],
   "source": [
    "breath_data['Date_Time'] = pd.to_datetime(breath_data['Date_HH:MM:SS'])\n",
    "breath_data.drop(['Date_HH:MM:SS'], inplace=True, axis=1)"
   ]
  },
  {
   "cell_type": "code",
   "execution_count": 8,
   "metadata": {
    "collapsed": false
   },
   "outputs": [
    {
     "data": {
      "text/plain": [
       "(17965580, 4)"
      ]
     },
     "execution_count": 8,
     "metadata": {},
     "output_type": "execute_result"
    }
   ],
   "source": [
    "breath_data.shape"
   ]
  },
  {
   "cell_type": "code",
   "execution_count": 9,
   "metadata": {
    "collapsed": false
   },
   "outputs": [
    {
     "data": {
      "text/plain": [
       "(1224, 4)"
      ]
     },
     "execution_count": 9,
     "metadata": {},
     "output_type": "execute_result"
    }
   ],
   "source": [
    "validated_breaths.shape"
   ]
  },
  {
   "cell_type": "code",
   "execution_count": 10,
   "metadata": {
    "collapsed": false
   },
   "outputs": [],
   "source": [
    "grouped = breath_data.groupby(['Study ID', 'Breath'])"
   ]
  },
  {
   "cell_type": "code",
   "execution_count": 11,
   "metadata": {
    "collapsed": false
   },
   "outputs": [
    {
     "data": {
      "text/plain": [
       "206293"
      ]
     },
     "execution_count": 11,
     "metadata": {},
     "output_type": "execute_result"
    }
   ],
   "source": [
    "grouped.ngroups"
   ]
  },
  {
   "cell_type": "code",
   "execution_count": 12,
   "metadata": {
    "collapsed": false
   },
   "outputs": [],
   "source": [
    "simple = grouped.aggregate(np.min)"
   ]
  },
  {
   "cell_type": "code",
   "execution_count": 13,
   "metadata": {
    "collapsed": false
   },
   "outputs": [
    {
     "data": {
      "text/html": [
       "<div style=\"max-height:1000px;max-width:1500px;overflow:auto;\">\n",
       "<table border=\"1\" class=\"dataframe\">\n",
       "  <thead>\n",
       "    <tr style=\"text-align: right;\">\n",
       "      <th></th>\n",
       "      <th>Study ID</th>\n",
       "      <th>Breath</th>\n",
       "      <th>Time(ms)</th>\n",
       "      <th>Date_Time</th>\n",
       "    </tr>\n",
       "  </thead>\n",
       "  <tbody>\n",
       "    <tr>\n",
       "      <th>0</th>\n",
       "      <td>P100</td>\n",
       "      <td>0</td>\n",
       "      <td>0</td>\n",
       "      <td>2014-04-21 13:01:28</td>\n",
       "    </tr>\n",
       "    <tr>\n",
       "      <th>1</th>\n",
       "      <td>P100</td>\n",
       "      <td>1</td>\n",
       "      <td>768</td>\n",
       "      <td>2014-04-21 13:01:29</td>\n",
       "    </tr>\n",
       "    <tr>\n",
       "      <th>2</th>\n",
       "      <td>P100</td>\n",
       "      <td>2</td>\n",
       "      <td>4352</td>\n",
       "      <td>2014-04-21 13:01:33</td>\n",
       "    </tr>\n",
       "    <tr>\n",
       "      <th>3</th>\n",
       "      <td>P100</td>\n",
       "      <td>3</td>\n",
       "      <td>8320</td>\n",
       "      <td>2014-04-21 13:01:37</td>\n",
       "    </tr>\n",
       "    <tr>\n",
       "      <th>4</th>\n",
       "      <td>P100</td>\n",
       "      <td>4</td>\n",
       "      <td>11968</td>\n",
       "      <td>2014-04-21 13:01:40</td>\n",
       "    </tr>\n",
       "  </tbody>\n",
       "</table>\n",
       "</div>"
      ],
      "text/plain": [
       "  Study ID  Breath  Time(ms)           Date_Time\n",
       "0     P100       0         0 2014-04-21 13:01:28\n",
       "1     P100       1       768 2014-04-21 13:01:29\n",
       "2     P100       2      4352 2014-04-21 13:01:33\n",
       "3     P100       3      8320 2014-04-21 13:01:37\n",
       "4     P100       4     11968 2014-04-21 13:01:40"
      ]
     },
     "execution_count": 13,
     "metadata": {},
     "output_type": "execute_result"
    }
   ],
   "source": [
    "simple.reset_index(inplace=True)\n",
    "simple.head()"
   ]
  },
  {
   "cell_type": "code",
   "execution_count": 14,
   "metadata": {
    "collapsed": false
   },
   "outputs": [],
   "source": [
    "test = pd.merge(validated_breaths, simple, on=['Study ID', 'Breath'], how='inner')"
   ]
  },
  {
   "cell_type": "code",
   "execution_count": 15,
   "metadata": {
    "collapsed": false
   },
   "outputs": [
    {
     "data": {
      "text/html": [
       "<div style=\"max-height:1000px;max-width:1500px;overflow:auto;\">\n",
       "<table border=\"1\" class=\"dataframe\">\n",
       "  <thead>\n",
       "    <tr style=\"text-align: right;\">\n",
       "      <th></th>\n",
       "      <th>Study ID</th>\n",
       "      <th>Breath</th>\n",
       "      <th>breath_type</th>\n",
       "      <th>validation</th>\n",
       "      <th>Time(ms)</th>\n",
       "      <th>Date_Time</th>\n",
       "    </tr>\n",
       "  </thead>\n",
       "  <tbody>\n",
       "    <tr>\n",
       "      <th>0</th>\n",
       "      <td>P101</td>\n",
       "      <td>40807</td>\n",
       "      <td>DS</td>\n",
       "      <td>d</td>\n",
       "      <td>110465703</td>\n",
       "      <td>2014-04-24 23:35:42</td>\n",
       "    </tr>\n",
       "    <tr>\n",
       "      <th>1</th>\n",
       "      <td>P107</td>\n",
       "      <td>5892</td>\n",
       "      <td>DS</td>\n",
       "      <td>d</td>\n",
       "      <td>11779488</td>\n",
       "      <td>2014-10-03 21:26:04</td>\n",
       "    </tr>\n",
       "    <tr>\n",
       "      <th>2</th>\n",
       "      <td>P101</td>\n",
       "      <td>41164</td>\n",
       "      <td>DS</td>\n",
       "      <td>i</td>\n",
       "      <td>111455677</td>\n",
       "      <td>2014-04-24 23:52:12</td>\n",
       "    </tr>\n",
       "    <tr>\n",
       "      <th>3</th>\n",
       "      <td>P101</td>\n",
       "      <td>21301</td>\n",
       "      <td>DS</td>\n",
       "      <td>d, f</td>\n",
       "      <td>52264715</td>\n",
       "      <td>2014-04-23 23:31:29</td>\n",
       "    </tr>\n",
       "    <tr>\n",
       "      <th>4</th>\n",
       "      <td>P101</td>\n",
       "      <td>41641</td>\n",
       "      <td>DS</td>\n",
       "      <td>d, f</td>\n",
       "      <td>112872869</td>\n",
       "      <td>2014-04-25 08:15:12</td>\n",
       "    </tr>\n",
       "  </tbody>\n",
       "</table>\n",
       "</div>"
      ],
      "text/plain": [
       "  Study ID  Breath breath_type validation   Time(ms)           Date_Time\n",
       "0     P101   40807          DS          d  110465703 2014-04-24 23:35:42\n",
       "1     P107    5892          DS          d   11779488 2014-10-03 21:26:04\n",
       "2     P101   41164          DS          i  111455677 2014-04-24 23:52:12\n",
       "3     P101   21301          DS       d, f   52264715 2014-04-23 23:31:29\n",
       "4     P101   41641          DS       d, f  112872869 2014-04-25 08:15:12"
      ]
     },
     "execution_count": 15,
     "metadata": {},
     "output_type": "execute_result"
    }
   ],
   "source": [
    "test.head()"
   ]
  },
  {
   "cell_type": "code",
   "execution_count": 16,
   "metadata": {
    "collapsed": false
   },
   "outputs": [],
   "source": [
    "test.drop(['breath_type'], inplace=True, axis=1)"
   ]
  },
  {
   "cell_type": "code",
   "execution_count": 17,
   "metadata": {
    "collapsed": false
   },
   "outputs": [
    {
     "data": {
      "text/html": [
       "<div style=\"max-height:1000px;max-width:1500px;overflow:auto;\">\n",
       "<table border=\"1\" class=\"dataframe\">\n",
       "  <thead>\n",
       "    <tr style=\"text-align: right;\">\n",
       "      <th></th>\n",
       "      <th>Study ID</th>\n",
       "      <th>Breath</th>\n",
       "      <th>validation</th>\n",
       "      <th>Time(ms)</th>\n",
       "      <th>Date_Time</th>\n",
       "    </tr>\n",
       "  </thead>\n",
       "  <tbody>\n",
       "    <tr>\n",
       "      <th>0</th>\n",
       "      <td>P101</td>\n",
       "      <td>40807</td>\n",
       "      <td>d</td>\n",
       "      <td>110465703</td>\n",
       "      <td>2014-04-24 23:35:42</td>\n",
       "    </tr>\n",
       "    <tr>\n",
       "      <th>1</th>\n",
       "      <td>P107</td>\n",
       "      <td>5892</td>\n",
       "      <td>d</td>\n",
       "      <td>11779488</td>\n",
       "      <td>2014-10-03 21:26:04</td>\n",
       "    </tr>\n",
       "    <tr>\n",
       "      <th>2</th>\n",
       "      <td>P101</td>\n",
       "      <td>41164</td>\n",
       "      <td>i</td>\n",
       "      <td>111455677</td>\n",
       "      <td>2014-04-24 23:52:12</td>\n",
       "    </tr>\n",
       "    <tr>\n",
       "      <th>3</th>\n",
       "      <td>P101</td>\n",
       "      <td>21301</td>\n",
       "      <td>d, f</td>\n",
       "      <td>52264715</td>\n",
       "      <td>2014-04-23 23:31:29</td>\n",
       "    </tr>\n",
       "    <tr>\n",
       "      <th>4</th>\n",
       "      <td>P101</td>\n",
       "      <td>41641</td>\n",
       "      <td>d, f</td>\n",
       "      <td>112872869</td>\n",
       "      <td>2014-04-25 08:15:12</td>\n",
       "    </tr>\n",
       "  </tbody>\n",
       "</table>\n",
       "</div>"
      ],
      "text/plain": [
       "  Study ID  Breath validation   Time(ms)           Date_Time\n",
       "0     P101   40807          d  110465703 2014-04-24 23:35:42\n",
       "1     P107    5892          d   11779488 2014-10-03 21:26:04\n",
       "2     P101   41164          i  111455677 2014-04-24 23:52:12\n",
       "3     P101   21301       d, f   52264715 2014-04-23 23:31:29\n",
       "4     P101   41641       d, f  112872869 2014-04-25 08:15:12"
      ]
     },
     "execution_count": 17,
     "metadata": {},
     "output_type": "execute_result"
    }
   ],
   "source": [
    "test.head()"
   ]
  },
  {
   "cell_type": "code",
   "execution_count": 18,
   "metadata": {
    "collapsed": false
   },
   "outputs": [
    {
     "data": {
      "text/plain": [
       "count     1224\n",
       "unique      14\n",
       "top          n\n",
       "freq       388\n",
       "Name: validation, dtype: object"
      ]
     },
     "execution_count": 18,
     "metadata": {},
     "output_type": "execute_result"
    }
   ],
   "source": [
    "test.validation.describe()"
   ]
  },
  {
   "cell_type": "code",
   "execution_count": 19,
   "metadata": {
    "collapsed": false
   },
   "outputs": [
    {
     "data": {
      "text/plain": [
       "False"
      ]
     },
     "execution_count": 19,
     "metadata": {},
     "output_type": "execute_result"
    }
   ],
   "source": [
    "test.validation.isnull().any()"
   ]
  },
  {
   "cell_type": "code",
   "execution_count": 20,
   "metadata": {
    "collapsed": false
   },
   "outputs": [],
   "source": [
    "client = MongoClient()\n",
    "db = client.VentDyssynchrony_db\n",
    "db_data = db.BreathData_collection\n",
    "val_data = db.ValidatedData_collection"
   ]
  },
  {
   "cell_type": "code",
   "execution_count": 21,
   "metadata": {
    "collapsed": false
   },
   "outputs": [
    {
     "name": "stdout",
     "output_type": "stream",
     "text": [
      "['system.indexes', 'VentSettings_collection', 'LogData_collection', 'BreathData_collection', 'LabData_collection', 'RNData_collection', 'RTData_collection', 'PatientData_collection']\n"
     ]
    }
   ],
   "source": [
    "print(db.collection_names())"
   ]
  },
  {
   "cell_type": "code",
   "execution_count": 22,
   "metadata": {
    "collapsed": false
   },
   "outputs": [],
   "source": [
    "db.drop_collection('ValidatedData_collection')"
   ]
  },
  {
   "cell_type": "code",
   "execution_count": 23,
   "metadata": {
    "collapsed": false
   },
   "outputs": [
    {
     "data": {
      "text/plain": [
       "0       None\n",
       "1       None\n",
       "2       None\n",
       "3       None\n",
       "4       None\n",
       "5       None\n",
       "6       None\n",
       "7       None\n",
       "8       None\n",
       "9       None\n",
       "10      None\n",
       "11      None\n",
       "12      None\n",
       "13      None\n",
       "14      None\n",
       "15      None\n",
       "16      None\n",
       "17      None\n",
       "18      None\n",
       "19      None\n",
       "20      None\n",
       "21      None\n",
       "22      None\n",
       "23      None\n",
       "24      None\n",
       "25      None\n",
       "26      None\n",
       "27      None\n",
       "28      None\n",
       "29      None\n",
       "        ... \n",
       "1194    None\n",
       "1195    None\n",
       "1196    None\n",
       "1197    None\n",
       "1198    None\n",
       "1199    None\n",
       "1200    None\n",
       "1201    None\n",
       "1202    None\n",
       "1203    None\n",
       "1204    None\n",
       "1205    None\n",
       "1206    None\n",
       "1207    None\n",
       "1208    None\n",
       "1209    None\n",
       "1210    None\n",
       "1211    None\n",
       "1212    None\n",
       "1213    None\n",
       "1214    None\n",
       "1215    None\n",
       "1216    None\n",
       "1217    None\n",
       "1218    None\n",
       "1219    None\n",
       "1220    None\n",
       "1221    None\n",
       "1222    None\n",
       "1223    None\n",
       "dtype: object"
      ]
     },
     "execution_count": 23,
     "metadata": {},
     "output_type": "execute_result"
    }
   ],
   "source": [
    "import datetime as dt\n",
    "\n",
    "\n",
    "def insert_db(df):\n",
    "    db_data.update({'patientID': df['Study ID'], 'start_time':df.Date_Time.to_pydatetime()},\n",
    "                   {'$set':{'analysis.validation': df.validation.split(', ')}})\n",
    "\n",
    "test.apply(insert_db, axis=1)"
   ]
  },
  {
   "cell_type": "code",
   "execution_count": 24,
   "metadata": {
    "collapsed": false
   },
   "outputs": [
    {
     "data": {
      "text/plain": [
       "1199"
      ]
     },
     "execution_count": 24,
     "metadata": {},
     "output_type": "execute_result"
    }
   ],
   "source": [
    "db_data.find({'analysis.validation':{'$exists':1}}).count()"
   ]
  },
  {
   "cell_type": "code",
   "execution_count": 25,
   "metadata": {
    "collapsed": false
   },
   "outputs": [
    {
     "data": {
      "text/plain": [
       "{'_id': 'P101\\\\WF130\\\\2014-04-22 18:43:02',\n",
       " 'analysis': {'validation': ['d', 'f']},\n",
       " 'breath_number': 130,\n",
       " 'characteristics': {'breath_time': 0.9920000000000186,\n",
       "  'end_insp_vol': 402.5,\n",
       "  'exp_time': 0.22399999999998954,\n",
       "  'insp_time': 0.7680000000000291,\n",
       "  'max_flow': \"[[37.200000000000003, '0 days 00:04:56.148000', 8], [46.5, '0 days 00:04:56.692000', 25]]\",\n",
       "  'max_pressure': \"[[19.399999999999999, '0 days 00:04:56.628000', 23]]\",\n",
       "  'max_vol': 445.0,\n",
       "  'min_exp_flow': 46.2,\n",
       "  'min_flow': \"[[4.5, '0 days 00:04:56.756000', 27]]\",\n",
       "  'min_pressure': \"[[18.600000000000001, '0 days 00:04:56.468000', 18]]\",\n",
       "  'min_vol': -2.5,\n",
       "  'peak_insp_flow': 46.5,\n",
       "  'peak_pressure': 21.7},\n",
       " 'data_frame': {'DateTime': [datetime.datetime(2014, 4, 22, 18, 43, 2),\n",
       "   datetime.datetime(2014, 4, 22, 18, 43, 2),\n",
       "   datetime.datetime(2014, 4, 22, 18, 43, 2),\n",
       "   datetime.datetime(2014, 4, 22, 18, 43, 2),\n",
       "   datetime.datetime(2014, 4, 22, 18, 43, 2),\n",
       "   datetime.datetime(2014, 4, 22, 18, 43, 2),\n",
       "   datetime.datetime(2014, 4, 22, 18, 43, 2),\n",
       "   datetime.datetime(2014, 4, 22, 18, 43, 2),\n",
       "   datetime.datetime(2014, 4, 22, 18, 43, 2),\n",
       "   datetime.datetime(2014, 4, 22, 18, 43, 2),\n",
       "   datetime.datetime(2014, 4, 22, 18, 43, 2),\n",
       "   datetime.datetime(2014, 4, 22, 18, 43, 2),\n",
       "   datetime.datetime(2014, 4, 22, 18, 43, 2),\n",
       "   datetime.datetime(2014, 4, 22, 18, 43, 2),\n",
       "   datetime.datetime(2014, 4, 22, 18, 43, 2),\n",
       "   datetime.datetime(2014, 4, 22, 18, 43, 2),\n",
       "   datetime.datetime(2014, 4, 22, 18, 43, 2),\n",
       "   datetime.datetime(2014, 4, 22, 18, 43, 2),\n",
       "   datetime.datetime(2014, 4, 22, 18, 43, 2),\n",
       "   datetime.datetime(2014, 4, 22, 18, 43, 2),\n",
       "   datetime.datetime(2014, 4, 22, 18, 43, 2),\n",
       "   datetime.datetime(2014, 4, 22, 18, 43, 2),\n",
       "   datetime.datetime(2014, 4, 22, 18, 43, 2),\n",
       "   datetime.datetime(2014, 4, 22, 18, 43, 2),\n",
       "   datetime.datetime(2014, 4, 22, 18, 43, 2),\n",
       "   datetime.datetime(2014, 4, 22, 18, 43, 2),\n",
       "   datetime.datetime(2014, 4, 22, 18, 43, 2),\n",
       "   datetime.datetime(2014, 4, 22, 18, 43, 2),\n",
       "   datetime.datetime(2014, 4, 22, 18, 43, 2),\n",
       "   datetime.datetime(2014, 4, 22, 18, 43, 2),\n",
       "   datetime.datetime(2014, 4, 22, 18, 43, 3),\n",
       "   datetime.datetime(2014, 4, 22, 18, 43, 3)],\n",
       "  'Flow': [-3.45,\n",
       "   -1.5,\n",
       "   1.8,\n",
       "   11.7,\n",
       "   24.15,\n",
       "   28.05,\n",
       "   30.6,\n",
       "   32.7,\n",
       "   37.2,\n",
       "   35.55,\n",
       "   34.65,\n",
       "   32.85,\n",
       "   31.8,\n",
       "   31.8,\n",
       "   33.6,\n",
       "   35.25,\n",
       "   37.65,\n",
       "   37.35,\n",
       "   41.1,\n",
       "   42.9,\n",
       "   43.5,\n",
       "   45.3,\n",
       "   45.45,\n",
       "   44.85,\n",
       "   46.2,\n",
       "   46.5,\n",
       "   14.25,\n",
       "   4.5,\n",
       "   5.7,\n",
       "   5.55,\n",
       "   4.95,\n",
       "   3.9],\n",
       "  'Paw': [10.2,\n",
       "   10.7,\n",
       "   11.0,\n",
       "   11.9,\n",
       "   14.6,\n",
       "   15.9,\n",
       "   17.2,\n",
       "   18.3,\n",
       "   19.6,\n",
       "   20.3,\n",
       "   21.0,\n",
       "   21.7,\n",
       "   21.7,\n",
       "   21.0,\n",
       "   20.5,\n",
       "   19.6,\n",
       "   18.9,\n",
       "   18.9,\n",
       "   18.6,\n",
       "   18.8,\n",
       "   19.1,\n",
       "   19.1,\n",
       "   19.3,\n",
       "   19.4,\n",
       "   19.3,\n",
       "   19.1,\n",
       "   10.8,\n",
       "   10.3,\n",
       "   9.0,\n",
       "   7.8,\n",
       "   6.4,\n",
       "   5.7],\n",
       "  'Status': [1,\n",
       "   1,\n",
       "   1,\n",
       "   1,\n",
       "   1,\n",
       "   1,\n",
       "   1,\n",
       "   1,\n",
       "   1,\n",
       "   1,\n",
       "   1,\n",
       "   1,\n",
       "   1,\n",
       "   1,\n",
       "   1,\n",
       "   1,\n",
       "   1,\n",
       "   1,\n",
       "   1,\n",
       "   1,\n",
       "   1,\n",
       "   1,\n",
       "   1,\n",
       "   1,\n",
       "   1,\n",
       "   0,\n",
       "   0,\n",
       "   0,\n",
       "   0,\n",
       "   0,\n",
       "   0,\n",
       "   0],\n",
       "  'Time': [295892000000,\n",
       "   295924000000,\n",
       "   295956000000,\n",
       "   295988000000,\n",
       "   296020000000,\n",
       "   296052000000,\n",
       "   296084000000,\n",
       "   296116000000,\n",
       "   296148000000,\n",
       "   296180000000,\n",
       "   296212000000,\n",
       "   296244000000,\n",
       "   296276000000,\n",
       "   296308000000,\n",
       "   296340000000,\n",
       "   296372000000,\n",
       "   296404000000,\n",
       "   296436000000,\n",
       "   296468000000,\n",
       "   296500000000,\n",
       "   296532000000,\n",
       "   296564000000,\n",
       "   296596000000,\n",
       "   296628000000,\n",
       "   296660000000,\n",
       "   296692000000,\n",
       "   296724000000,\n",
       "   296756000000,\n",
       "   296788000000,\n",
       "   296820000000,\n",
       "   296852000000,\n",
       "   296884000000],\n",
       "  'Volume': [0.0,\n",
       "   -2.5,\n",
       "   -2.5,\n",
       "   2.5,\n",
       "   15.0,\n",
       "   22.5,\n",
       "   37.5,\n",
       "   50.0,\n",
       "   72.5,\n",
       "   90.0,\n",
       "   107.5,\n",
       "   125.0,\n",
       "   135.0,\n",
       "   157.5,\n",
       "   172.5,\n",
       "   190.0,\n",
       "   215.0,\n",
       "   227.5,\n",
       "   247.5,\n",
       "   267.5,\n",
       "   290.0,\n",
       "   312.5,\n",
       "   335.0,\n",
       "   357.5,\n",
       "   380.0,\n",
       "   402.5,\n",
       "   425.0,\n",
       "   430.0,\n",
       "   435.0,\n",
       "   440.0,\n",
       "   442.5,\n",
       "   445.0]},\n",
       " 'end_time': datetime.datetime(2014, 4, 22, 18, 43, 3),\n",
       " 'file_name': 'P101\\\\hm_Waveform 14-04-22-18-38.txt',\n",
       " 'location': [1398192182000000000, 0],\n",
       " 'patientID': 'P101',\n",
       " 'start_time': datetime.datetime(2014, 4, 22, 18, 43, 2),\n",
       " 'vent_settings': {'FiO2': 50.0,\n",
       "  'PEEP': 10.0,\n",
       "  'compliance': 148.0,\n",
       "  'distance': 0.0,\n",
       "  'file_name': 'P101\\\\hm_Breath 14-04-22-18-38.txt',\n",
       "  'ie': '1:3.0',\n",
       "  'leak': 128.0,\n",
       "  'load_errors': [],\n",
       "  'p_mean': 14.0,\n",
       "  'p_peak': 21.0,\n",
       "  'p_plat': 20.0,\n",
       "  'ramp': 50.0,\n",
       "  'reference_doc': 'P101\\\\Vent110\\\\2014-04-22 18:43:02',\n",
       "  'set_VT': 410.0,\n",
       "  'set_rate': 24.0,\n",
       "  'te': 2.3,\n",
       "  'ti': 0.75,\n",
       "  'trigger': 1.0,\n",
       "  'vent_mode': 'APVCMV'}}"
      ]
     },
     "execution_count": 25,
     "metadata": {},
     "output_type": "execute_result"
    }
   ],
   "source": [
    "db_data.find_one({'analysis.validation':{'$exists':1}})"
   ]
  },
  {
   "cell_type": "code",
   "execution_count": 27,
   "metadata": {
    "collapsed": false
   },
   "outputs": [
    {
     "data": {
      "text/plain": [
       "<pymongo.command_cursor.CommandCursor at 0x832fef0>"
      ]
     },
     "execution_count": 27,
     "metadata": {},
     "output_type": "execute_result"
    }
   ],
   "source": [
    "db_data.aggregate([{'$match':{'analysis.validation':{'$exists':1}}},\n",
    "                   {'$out': 'ValidatedData_collection'}])"
   ]
  },
  {
   "cell_type": "code",
   "execution_count": 30,
   "metadata": {
    "collapsed": false
   },
   "outputs": [
    {
     "data": {
      "text/plain": [
       "1199"
      ]
     },
     "execution_count": 30,
     "metadata": {},
     "output_type": "execute_result"
    }
   ],
   "source": [
    "val_data.find({'analysis.validation':{'$exists':1}}).count()"
   ]
  },
  {
   "cell_type": "code",
   "execution_count": 36,
   "metadata": {
    "collapsed": false
   },
   "outputs": [
    {
     "ename": "TypeError",
     "evalue": "document must be an instance of dict, bson.son.SON, or other type that inherits from collections.MutableMapping",
     "output_type": "error",
     "traceback": [
      "\u001b[1;31m---------------------------------------------------------------------------\u001b[0m",
      "\u001b[1;31mTypeError\u001b[0m                                 Traceback (most recent call last)",
      "\u001b[1;32m<ipython-input-36-8636bbf84338>\u001b[0m in \u001b[0;36m<module>\u001b[1;34m()\u001b[0m\n\u001b[0;32m      1\u001b[0m \u001b[1;32mfor\u001b[0m \u001b[0mitems\u001b[0m \u001b[1;32min\u001b[0m \u001b[0mval_data\u001b[0m\u001b[1;33m.\u001b[0m\u001b[0mfind\u001b[0m\u001b[1;33m(\u001b[0m\u001b[1;33m{\u001b[0m\u001b[1;34m'analysis.validation'\u001b[0m\u001b[1;33m:\u001b[0m\u001b[1;33m{\u001b[0m\u001b[1;34m'$exists'\u001b[0m\u001b[1;33m:\u001b[0m\u001b[1;36m1\u001b[0m\u001b[1;33m}\u001b[0m\u001b[1;33m}\u001b[0m\u001b[1;33m,\u001b[0m\u001b[1;33m{\u001b[0m\u001b[1;34m'_id'\u001b[0m\u001b[1;33m:\u001b[0m\u001b[1;36m0\u001b[0m\u001b[1;33m,\u001b[0m \u001b[1;34m'patientID'\u001b[0m\u001b[1;33m:\u001b[0m\u001b[1;36m1\u001b[0m\u001b[1;33m,\u001b[0m \u001b[1;34m'file_name'\u001b[0m\u001b[1;33m:\u001b[0m\u001b[1;36m1\u001b[0m\u001b[1;33m,\u001b[0m \u001b[1;34m'breath_number'\u001b[0m\u001b[1;33m:\u001b[0m\u001b[1;36m1\u001b[0m\u001b[1;33m}\u001b[0m\u001b[1;33m)\u001b[0m\u001b[1;33m:\u001b[0m\u001b[1;33m\u001b[0m\u001b[0m\n\u001b[0;32m      2\u001b[0m     val_data.insert_one(db_data.find_one({'patientID':items['patientID'], 'file_name':items['file_name'],\n\u001b[1;32m----> 3\u001b[1;33m                                               'breath_number':items['breath_number']+1}))\n\u001b[0m",
      "\u001b[1;32mE:\\Anaconda\\lib\\site-packages\\pymongo\\collection.py\u001b[0m in \u001b[0;36minsert_one\u001b[1;34m(self, document)\u001b[0m\n\u001b[0;32m    461\u001b[0m         \u001b[1;33m.\u001b[0m\u001b[1;33m.\u001b[0m \u001b[0mversionadded\u001b[0m\u001b[1;33m:\u001b[0m\u001b[1;33m:\u001b[0m \u001b[1;36m3.0\u001b[0m\u001b[1;33m\u001b[0m\u001b[0m\n\u001b[0;32m    462\u001b[0m         \"\"\"\n\u001b[1;32m--> 463\u001b[1;33m         \u001b[0mcommon\u001b[0m\u001b[1;33m.\u001b[0m\u001b[0mvalidate_is_mutable_mapping\u001b[0m\u001b[1;33m(\u001b[0m\u001b[1;34m\"document\"\u001b[0m\u001b[1;33m,\u001b[0m \u001b[0mdocument\u001b[0m\u001b[1;33m)\u001b[0m\u001b[1;33m\u001b[0m\u001b[0m\n\u001b[0m\u001b[0;32m    464\u001b[0m         \u001b[1;32mif\u001b[0m \u001b[1;34m\"_id\"\u001b[0m \u001b[1;32mnot\u001b[0m \u001b[1;32min\u001b[0m \u001b[0mdocument\u001b[0m\u001b[1;33m:\u001b[0m\u001b[1;33m\u001b[0m\u001b[0m\n\u001b[0;32m    465\u001b[0m             \u001b[0mdocument\u001b[0m\u001b[1;33m[\u001b[0m\u001b[1;34m\"_id\"\u001b[0m\u001b[1;33m]\u001b[0m \u001b[1;33m=\u001b[0m \u001b[0mObjectId\u001b[0m\u001b[1;33m(\u001b[0m\u001b[1;33m)\u001b[0m\u001b[1;33m\u001b[0m\u001b[0m\n",
      "\u001b[1;32mE:\\Anaconda\\lib\\site-packages\\pymongo\\common.py\u001b[0m in \u001b[0;36mvalidate_is_mutable_mapping\u001b[1;34m(option, value)\u001b[0m\n\u001b[0;32m    345\u001b[0m         raise TypeError(\"%s must be an instance of dict, bson.son.SON, or \"\n\u001b[0;32m    346\u001b[0m                         \u001b[1;34m\"other type that inherits from \"\u001b[0m\u001b[1;33m\u001b[0m\u001b[0m\n\u001b[1;32m--> 347\u001b[1;33m                         \"collections.MutableMapping\" % (option,))\n\u001b[0m\u001b[0;32m    348\u001b[0m \u001b[1;33m\u001b[0m\u001b[0m\n\u001b[0;32m    349\u001b[0m \u001b[1;33m\u001b[0m\u001b[0m\n",
      "\u001b[1;31mTypeError\u001b[0m: document must be an instance of dict, bson.son.SON, or other type that inherits from collections.MutableMapping"
     ]
    }
   ],
   "source": [
    "for items in val_data.find({'analysis.validation':{'$exists':1}},{'_id':0, 'patientID':1, 'file_name':1, 'breath_number':1}):\n",
    "    try:\n",
    "        val_data.insert_one(db_data.find_one({'patientID':items['patientID'], 'file_name':items['file_name'], \n",
    "                                              'breath_number':items['breath_number']+1}))\n",
    "    except as e:\n",
    "        print(e)"
   ]
  },
  {
   "cell_type": "code",
   "execution_count": 37,
   "metadata": {
    "collapsed": false
   },
   "outputs": [
    {
     "data": {
      "text/plain": [
       "1199"
      ]
     },
     "execution_count": 37,
     "metadata": {},
     "output_type": "execute_result"
    }
   ],
   "source": [
    "val_data.find({'analysis.validation':{'$exists':1}}).count()"
   ]
  },
  {
   "cell_type": "code",
   "execution_count": 38,
   "metadata": {
    "collapsed": false
   },
   "outputs": [
    {
     "data": {
      "text/plain": [
       "1560"
      ]
     },
     "execution_count": 38,
     "metadata": {},
     "output_type": "execute_result"
    }
   ],
   "source": [
    "val_data.find().count()"
   ]
  },
  {
   "cell_type": "code",
   "execution_count": null,
   "metadata": {
    "collapsed": true
   },
   "outputs": [],
   "source": []
  }
 ],
 "metadata": {
  "kernelspec": {
   "display_name": "Python 3",
   "language": "python",
   "name": "python3"
  },
  "language_info": {
   "codemirror_mode": {
    "name": "ipython",
    "version": 3
   },
   "file_extension": ".py",
   "mimetype": "text/x-python",
   "name": "python",
   "nbconvert_exporter": "python",
   "pygments_lexer": "ipython3",
   "version": "3.4.1"
  }
 },
 "nbformat": 4,
 "nbformat_minor": 0
}
