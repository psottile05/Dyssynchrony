{
 "cells": [
  {
   "cell_type": "code",
   "execution_count": 1,
   "metadata": {
    "collapsed": false
   },
   "outputs": [],
   "source": [
    "from pymongo import MongoClient\n",
    "import pymongo\n",
    "import pandas as pd\n",
    "import numpy as np\n",
    "import scipy as sp\n",
    "from IPython.parallel import Client\n",
    "import sys\n",
    "import numbapro\n",
    "import numba\n",
    "from sklearn import svm, metrics"
   ]
  },
  {
   "cell_type": "code",
   "execution_count": 2,
   "metadata": {
    "collapsed": false
   },
   "outputs": [],
   "source": [
    "client = MongoClient()\n",
    "db = client.VentDyssynchrony_db\n",
    "test_data = db.TestData_collection\n",
    "patient_data = db.PatientData_collection"
   ]
  },
  {
   "cell_type": "code",
   "execution_count": 3,
   "metadata": {
    "collapsed": true
   },
   "outputs": [],
   "source": [
    "unpack_col = []\n",
    "def unpack(breath, unpack_col = unpack_col):\n",
    "    for col in unpack_col:      \n",
    "        key_names = set()\n",
    "        keys = set()\n",
    "        \n",
    "        try:\n",
    "            keys = breath[col].apply(lambda x: set(x.keys()) if isinstance(x, dict) else set())\n",
    "        except:\n",
    "            print(sys.exc_info()[0])\n",
    "            \n",
    "        \n",
    "        try:\n",
    "            for items in keys:\n",
    "                key_names.update(items)\n",
    "        except:\n",
    "            print(sys.exc_info()[0])\n",
    "            print(keys)\n",
    "\n",
    "        try:\n",
    "            for key in key_names:\n",
    "                breath[col +':'+ key] = breath[col].apply(lambda x: x[key] if (isinstance(x, dict) and (key in x)) else np.nan)\n",
    "            breath.drop(col, inplace=True, axis=1)\n",
    "        except:\n",
    "            print(sys.exc_info()[0])\n",
    "            print('last', key, key_names)\n",
    "    \n",
    "    return breath\n"
   ]
  },
  {
   "cell_type": "code",
   "execution_count": 4,
   "metadata": {
    "collapsed": false
   },
   "outputs": [
    {
     "data": {
      "text/plain": [
       "{'_id': 'P114\\\\WF1773\\\\2015-01-27 15:57:09',\n",
       " 'analysis': {'couplet': True,\n",
       "  'ds': False,\n",
       "  'ds_mid': True,\n",
       "  'ds_sens': True,\n",
       "  'ds_spec': False,\n",
       "  'fl': False,\n",
       "  'ie': False,\n",
       "  'pds': True,\n",
       "  'pl': True,\n",
       "  'pvt': True},\n",
       " 'breath_number': 1773,\n",
       " 'characteristics': {'breath_time': 0.8959999999997308,\n",
       "  'ds_vol': nan,\n",
       "  'end_insp_vol': 15.0,\n",
       "  'exp_time': 0.28799999999955617,\n",
       "  'flow_max': [[9.0, 23.0]],\n",
       "  'flow_min': [[2.0, 19.0]],\n",
       "  'insp_time': 0.6080000000001746,\n",
       "  'max_flow': \"[[31.800000000000001, '0 days 01:12:21.680000', 3], [-0.75, '0 days 01:12:22.032000', 14], [-1.5, '0 days 01:12:22.160000', 18]]\",\n",
       "  'max_pressure': \"[[15.199999999999999, '0 days 01:12:22.224000', 20]]\",\n",
       "  'max_vol': 115.0,\n",
       "  'min_exp_flow': 31.8,\n",
       "  'min_flow': \"[[-3.75, '0 days 01:12:21.904000', 10], [-29.100000000000001, '0 days 01:12:22.288000', 22]]\",\n",
       "  'min_pressure': \"[[2.6000000000000001, '0 days 01:12:21.648000', 2], [13.800000000000001, '0 days 01:12:22.064000', 15], [9.3000000000000007, '0 days 01:12:22.288000', 22]]\",\n",
       "  'min_vol': 5.0,\n",
       "  'paw_max': [[18.0]],\n",
       "  'paw_min': [[4.0, 7.0]],\n",
       "  'peak_insp_flow': -1.05,\n",
       "  'peak_pressure': 15.3,\n",
       "  'pvt_max': [[26.0]],\n",
       "  'pvt_min': [[24.0, 31.0]]},\n",
       " 'data_frame': {'DateTime': [datetime.datetime(2015, 1, 27, 15, 57, 9),\n",
       "   datetime.datetime(2015, 1, 27, 15, 57, 9),\n",
       "   datetime.datetime(2015, 1, 27, 15, 57, 9),\n",
       "   datetime.datetime(2015, 1, 27, 15, 57, 9),\n",
       "   datetime.datetime(2015, 1, 27, 15, 57, 9),\n",
       "   datetime.datetime(2015, 1, 27, 15, 57, 9),\n",
       "   datetime.datetime(2015, 1, 27, 15, 57, 9),\n",
       "   datetime.datetime(2015, 1, 27, 15, 57, 9),\n",
       "   datetime.datetime(2015, 1, 27, 15, 57, 9),\n",
       "   datetime.datetime(2015, 1, 27, 15, 57, 9),\n",
       "   datetime.datetime(2015, 1, 27, 15, 57, 9),\n",
       "   datetime.datetime(2015, 1, 27, 15, 57, 9),\n",
       "   datetime.datetime(2015, 1, 27, 15, 57, 10),\n",
       "   datetime.datetime(2015, 1, 27, 15, 57, 10),\n",
       "   datetime.datetime(2015, 1, 27, 15, 57, 10),\n",
       "   datetime.datetime(2015, 1, 27, 15, 57, 10),\n",
       "   datetime.datetime(2015, 1, 27, 15, 57, 10),\n",
       "   datetime.datetime(2015, 1, 27, 15, 57, 10),\n",
       "   datetime.datetime(2015, 1, 27, 15, 57, 10),\n",
       "   datetime.datetime(2015, 1, 27, 15, 57, 10),\n",
       "   datetime.datetime(2015, 1, 27, 15, 57, 10),\n",
       "   datetime.datetime(2015, 1, 27, 15, 57, 10),\n",
       "   datetime.datetime(2015, 1, 27, 15, 57, 10),\n",
       "   datetime.datetime(2015, 1, 27, 15, 57, 10),\n",
       "   datetime.datetime(2015, 1, 27, 15, 57, 10),\n",
       "   datetime.datetime(2015, 1, 27, 15, 57, 10),\n",
       "   datetime.datetime(2015, 1, 27, 15, 57, 10),\n",
       "   datetime.datetime(2015, 1, 27, 15, 57, 10),\n",
       "   datetime.datetime(2015, 1, 27, 15, 57, 10)],\n",
       "  'Flow': [9.6,\n",
       "   21.9,\n",
       "   28.2,\n",
       "   31.8,\n",
       "   29.7,\n",
       "   23.7,\n",
       "   14.7,\n",
       "   7.8,\n",
       "   2.55,\n",
       "   -1.5,\n",
       "   -3.75,\n",
       "   -2.7,\n",
       "   -1.95,\n",
       "   -1.8,\n",
       "   -0.75,\n",
       "   -1.2,\n",
       "   -2.1,\n",
       "   -2.25,\n",
       "   -1.5,\n",
       "   -3.0,\n",
       "   -3.45,\n",
       "   -16.95,\n",
       "   -29.1,\n",
       "   -22.65,\n",
       "   -21.9,\n",
       "   -20.1,\n",
       "   -17.85,\n",
       "   -9.3,\n",
       "   -1.05],\n",
       "  'Paw': [6.1,\n",
       "   3.3,\n",
       "   2.6,\n",
       "   5.3,\n",
       "   9.1,\n",
       "   11.6,\n",
       "   13.3,\n",
       "   14.2,\n",
       "   14.7,\n",
       "   14.9,\n",
       "   15.3,\n",
       "   15.3,\n",
       "   14.8,\n",
       "   14.5,\n",
       "   14.1,\n",
       "   13.8,\n",
       "   14.2,\n",
       "   14.5,\n",
       "   14.5,\n",
       "   14.9,\n",
       "   15.2,\n",
       "   13.5,\n",
       "   9.3,\n",
       "   9.7,\n",
       "   9.4,\n",
       "   8.9,\n",
       "   8.7,\n",
       "   7.8,\n",
       "   7.0],\n",
       "  'Status': [1,\n",
       "   1,\n",
       "   1,\n",
       "   1,\n",
       "   1,\n",
       "   1,\n",
       "   1,\n",
       "   1,\n",
       "   1,\n",
       "   1,\n",
       "   1,\n",
       "   1,\n",
       "   1,\n",
       "   1,\n",
       "   1,\n",
       "   1,\n",
       "   1,\n",
       "   1,\n",
       "   1,\n",
       "   1,\n",
       "   0,\n",
       "   0,\n",
       "   0,\n",
       "   0,\n",
       "   0,\n",
       "   0,\n",
       "   0,\n",
       "   0,\n",
       "   0],\n",
       "  'Time': [4341584000000,\n",
       "   4341616000000,\n",
       "   4341648000000,\n",
       "   4341680000000,\n",
       "   4341712000000,\n",
       "   4341744000000,\n",
       "   4341776000000,\n",
       "   4341808000000,\n",
       "   4341840000000,\n",
       "   4341872000000,\n",
       "   4341904000000,\n",
       "   4341936000000,\n",
       "   4341968000000,\n",
       "   4342000000000,\n",
       "   4342032000000,\n",
       "   4342064000000,\n",
       "   4342096000000,\n",
       "   4342128000000,\n",
       "   4342160000000,\n",
       "   4342192000000,\n",
       "   4342224000000,\n",
       "   4342256000000,\n",
       "   4342288000000,\n",
       "   4342320000000,\n",
       "   4342352000000,\n",
       "   4342384000000,\n",
       "   4342416000000,\n",
       "   4342448000000,\n",
       "   4342480000000],\n",
       "  'Volume': [5.0,\n",
       "   17.5,\n",
       "   35.0,\n",
       "   55.0,\n",
       "   75.0,\n",
       "   92.5,\n",
       "   105.0,\n",
       "   112.5,\n",
       "   115.0,\n",
       "   115.0,\n",
       "   115.0,\n",
       "   112.5,\n",
       "   110.0,\n",
       "   110.0,\n",
       "   107.5,\n",
       "   107.5,\n",
       "   107.5,\n",
       "   105.0,\n",
       "   105.0,\n",
       "   102.5,\n",
       "   100.0,\n",
       "   95.0,\n",
       "   77.5,\n",
       "   55.0,\n",
       "   45.0,\n",
       "   35.0,\n",
       "   25.0,\n",
       "   15.0,\n",
       "   15.0]},\n",
       " 'end_time': datetime.datetime(2015, 1, 27, 15, 57, 10),\n",
       " 'file_name': 'P114\\\\hm_Waveform 15-01-27-14-44.txt',\n",
       " 'location': [1422374229000000000, 0],\n",
       " 'patientID': 'P114',\n",
       " 'start_time': datetime.datetime(2015, 1, 27, 15, 57, 9),\n",
       " 'vent_settings': {'FiO2': 50.0,\n",
       "  'PEEP': 8.0,\n",
       "  'compliance': 63.0,\n",
       "  'distance': -1.0,\n",
       "  'file_name': 'P114\\\\hm_Breath 15-01-27-14-44.txt',\n",
       "  'ie': '1:3.0',\n",
       "  'leak': 1.0,\n",
       "  'load_errors': [],\n",
       "  'p_mean': 9.0,\n",
       "  'p_peak': 18.0,\n",
       "  'p_plat': 18.0,\n",
       "  'ramp': 50.0,\n",
       "  'reference_doc': 'P114\\\\Vent1674\\\\2015-01-27 15:57:10',\n",
       "  'set_VT': 310.0,\n",
       "  'set_rate': 27.0,\n",
       "  'te': 1.4,\n",
       "  'ti': 0.83,\n",
       "  'trigger': 0.0,\n",
       "  'vent_mode': 'APVCMV'}}"
      ]
     },
     "execution_count": 4,
     "metadata": {},
     "output_type": "execute_result"
    }
   ],
   "source": [
    "test_data.find_one()"
   ]
  },
  {
   "cell_type": "code",
   "execution_count": 11,
   "metadata": {
    "collapsed": false
   },
   "outputs": [],
   "source": [
    "breath_df = pd.DataFrame(list(test_data.find({'validation.raw':{'$exists':1}})))\n",
    "breath_df = unpack(breath_df, unpack_col = ['characteristics', 'vent_settings', 'data_frame', 'analysis', 'validation'])\n",
    "\n",
    "headings = ['ds', 'pl', 'fl', 'ie', 'pvt' , 'dvt', 'normal']\n",
    "for items in headings:\n",
    "    breath_df['validation:'+ items] = breath_df['validation:raw'].apply(lambda x: True if (items in x) else False)"
   ]
  },
  {
   "cell_type": "code",
   "execution_count": 12,
   "metadata": {
    "collapsed": false
   },
   "outputs": [],
   "source": [
    "breath_df.drop(['analysis:ds_mid', 'analysis:ds_sens', 'analysis:ds_spec', 'characteristics:max_flow', 'characteristics:max_pressure', 'characteristics:min_flow', 'characteristics:min_pressure'], axis=1, inplace=True)"
   ]
  },
  {
   "cell_type": "code",
   "execution_count": 13,
   "metadata": {
    "collapsed": false,
    "scrolled": true
   },
   "outputs": [
    {
     "data": {
      "text/plain": [
       "Index(['_id', 'breath_number', 'characteristics:ds_vol', 'end_time',\n",
       "       'file_name', 'location', 'patientID', 'start_time',\n",
       "       'characteristics:exp_time', 'characteristics:max_vol',\n",
       "       'characteristics:breath_time', 'characteristics:ie_max',\n",
       "       'characteristics:flow_max', 'characteristics:paw_min',\n",
       "       'characteristics:min_exp_flow', 'characteristics:paw_max',\n",
       "       'characteristics:insp_time', 'characteristics:pvt_max',\n",
       "       'characteristics:end_insp_vol', 'characteristics:pvt_min',\n",
       "       'characteristics:flow_min', 'characteristics:peak_pressure',\n",
       "       'characteristics:min_vol', 'characteristics:peak_insp_flow',\n",
       "       'characteristics:ie_min', 'vent_settings:ramp', 'vent_settings:ie',\n",
       "       'vent_settings:leak', 'vent_settings:PEEP', 'vent_settings:p_mean',\n",
       "       'vent_settings:set_VT', 'vent_settings:reference_doc',\n",
       "       'vent_settings:file_name', 'vent_settings:distance',\n",
       "       'vent_settings:load_errors', 'vent_settings:p_peak', 'vent_settings:ti',\n",
       "       'vent_settings:trigger', 'vent_settings:compliance',\n",
       "       'vent_settings:p_plat', 'vent_settings:FiO2', 'vent_settings:vent_mode',\n",
       "       'vent_settings:te', 'vent_settings:set_rate', 'data_frame:DateTime',\n",
       "       'data_frame:Time', 'data_frame:Flow', 'data_frame:Paw',\n",
       "       'data_frame:Status', 'data_frame:Volume', 'analysis:pds', 'analysis:pl',\n",
       "       'analysis:ie', 'analysis:pvt', 'analysis:ds', 'analysis:fl',\n",
       "       'analysis:couplet', 'validation:raw', 'validation:ds', 'validation:pl',\n",
       "       'validation:fl', 'validation:ie', 'validation:pvt', 'validation:dvt',\n",
       "       'validation:normal'],\n",
       "      dtype='object')"
      ]
     },
     "execution_count": 13,
     "metadata": {},
     "output_type": "execute_result"
    }
   ],
   "source": [
    "breath_df.columns"
   ]
  },
  {
   "cell_type": "code",
   "execution_count": 61,
   "metadata": {
    "collapsed": false
   },
   "outputs": [],
   "source": [
    "train = breath_df[['characteristics:peak_insp_flow','characteristics:min_exp_flow', 'characteristics:min_vol', \n",
    "                  'characteristics:insp_time', 'characteristics:exp_time', 'characteristics:end_insp_vol', \n",
    "                  'characteristics:breath_time', 'validation:ds']].dropna(axis=0, how='any')\n",
    "target = train['validation:ds'].values\n",
    "train = train.drop(['validation:ds'], axis=1).values\n"
   ]
  },
  {
   "cell_type": "code",
   "execution_count": 62,
   "metadata": {
    "collapsed": false
   },
   "outputs": [
    {
     "data": {
      "text/plain": [
       "(1801,)"
      ]
     },
     "execution_count": 62,
     "metadata": {},
     "output_type": "execute_result"
    }
   ],
   "source": [
    "target.shape"
   ]
  },
  {
   "cell_type": "code",
   "execution_count": 63,
   "metadata": {
    "collapsed": false
   },
   "outputs": [
    {
     "data": {
      "text/plain": [
       "(1801, 7)"
      ]
     },
     "execution_count": 63,
     "metadata": {},
     "output_type": "execute_result"
    }
   ],
   "source": [
    "train.shape"
   ]
  },
  {
   "cell_type": "code",
   "execution_count": 64,
   "metadata": {
    "collapsed": false
   },
   "outputs": [],
   "source": [
    "clf = svm.SVC(probability=True)"
   ]
  },
  {
   "cell_type": "code",
   "execution_count": 68,
   "metadata": {
    "collapsed": false
   },
   "outputs": [
    {
     "data": {
      "text/plain": [
       "SVC(C=1.0, cache_size=200, class_weight=None, coef0=0.0, degree=3, gamma=0.0,\n",
       "  kernel='rbf', max_iter=-1, probability=True, random_state=None,\n",
       "  shrinking=True, tol=0.001, verbose=False)"
      ]
     },
     "execution_count": 68,
     "metadata": {},
     "output_type": "execute_result"
    }
   ],
   "source": [
    "clf.fit(X=train, y=target)"
   ]
  },
  {
   "cell_type": "code",
   "execution_count": 69,
   "metadata": {
    "collapsed": false
   },
   "outputs": [
    {
     "data": {
      "text/plain": [
       "array([-0.99984471,  0.22764524, -1.00001819, ..., -1.00033798,\n",
       "       -1.00005994, -1.03552242])"
      ]
     },
     "execution_count": 69,
     "metadata": {},
     "output_type": "execute_result"
    }
   ],
   "source": [
    "clf.decision_function(train)"
   ]
  },
  {
   "cell_type": "code",
   "execution_count": 70,
   "metadata": {
    "collapsed": false
   },
   "outputs": [
    {
     "data": {
      "text/plain": [
       "1.0"
      ]
     },
     "execution_count": 70,
     "metadata": {},
     "output_type": "execute_result"
    }
   ],
   "source": [
    "clf.score(train, target)"
   ]
  },
  {
   "cell_type": "code",
   "execution_count": 71,
   "metadata": {
    "collapsed": false
   },
   "outputs": [],
   "source": [
    "prob_est = clf.predict_proba(train)"
   ]
  },
  {
   "cell_type": "code",
   "execution_count": 73,
   "metadata": {
    "collapsed": false
   },
   "outputs": [
    {
     "data": {
      "text/plain": [
       "array([False,  True], dtype=bool)"
      ]
     },
     "execution_count": 73,
     "metadata": {},
     "output_type": "execute_result"
    }
   ],
   "source": [
    "clf.classes_"
   ]
  },
  {
   "cell_type": "code",
   "execution_count": 74,
   "metadata": {
    "collapsed": false
   },
   "outputs": [],
   "source": [
    "results = clf.predict(train)"
   ]
  },
  {
   "cell_type": "code",
   "execution_count": 75,
   "metadata": {
    "collapsed": false
   },
   "outputs": [
    {
     "data": {
      "text/plain": [
       "array([False,  True, False, ..., False, False, False], dtype=bool)"
      ]
     },
     "execution_count": 75,
     "metadata": {},
     "output_type": "execute_result"
    }
   ],
   "source": [
    "results"
   ]
  },
  {
   "cell_type": "code",
   "execution_count": 28,
   "metadata": {
    "collapsed": false
   },
   "outputs": [],
   "source": [
    "df = pd.DataFrame(data={'results': results, 'train':train})"
   ]
  },
  {
   "cell_type": "code",
   "execution_count": 29,
   "metadata": {
    "collapsed": false
   },
   "outputs": [],
   "source": [
    "df['delta'] = df.apply(lambda x: False if x.results != x.train else True, axis=1)"
   ]
  },
  {
   "cell_type": "code",
   "execution_count": 30,
   "metadata": {
    "collapsed": false
   },
   "outputs": [
    {
     "data": {
      "text/html": [
       "<div style=\"max-height:1000px;max-width:1500px;overflow:auto;\">\n",
       "<table border=\"1\" class=\"dataframe\">\n",
       "  <thead>\n",
       "    <tr style=\"text-align: right;\">\n",
       "      <th></th>\n",
       "      <th>results</th>\n",
       "      <th>train</th>\n",
       "      <th>delta</th>\n",
       "    </tr>\n",
       "  </thead>\n",
       "  <tbody>\n",
       "    <tr>\n",
       "      <th>0</th>\n",
       "      <td>False</td>\n",
       "      <td>False</td>\n",
       "      <td>True</td>\n",
       "    </tr>\n",
       "    <tr>\n",
       "      <th>1</th>\n",
       "      <td>True</td>\n",
       "      <td>True</td>\n",
       "      <td>True</td>\n",
       "    </tr>\n",
       "    <tr>\n",
       "      <th>2</th>\n",
       "      <td>False</td>\n",
       "      <td>False</td>\n",
       "      <td>True</td>\n",
       "    </tr>\n",
       "    <tr>\n",
       "      <th>3</th>\n",
       "      <td>False</td>\n",
       "      <td>False</td>\n",
       "      <td>True</td>\n",
       "    </tr>\n",
       "    <tr>\n",
       "      <th>4</th>\n",
       "      <td>False</td>\n",
       "      <td>False</td>\n",
       "      <td>True</td>\n",
       "    </tr>\n",
       "  </tbody>\n",
       "</table>\n",
       "</div>"
      ],
      "text/plain": [
       "  results  train delta\n",
       "0   False  False  True\n",
       "1    True   True  True\n",
       "2   False  False  True\n",
       "3   False  False  True\n",
       "4   False  False  True"
      ]
     },
     "execution_count": 30,
     "metadata": {},
     "output_type": "execute_result"
    }
   ],
   "source": [
    "df.head()"
   ]
  },
  {
   "cell_type": "code",
   "execution_count": 76,
   "metadata": {
    "collapsed": false
   },
   "outputs": [
    {
     "data": {
      "text/plain": [
       "False    1589\n",
       "True      212\n",
       "dtype: int64"
      ]
     },
     "execution_count": 76,
     "metadata": {},
     "output_type": "execute_result"
    }
   ],
   "source": [
    "df['train'].value_counts()"
   ]
  },
  {
   "cell_type": "code",
   "execution_count": 56,
   "metadata": {
    "collapsed": false
   },
   "outputs": [
    {
     "data": {
      "text/plain": [
       "1.0"
      ]
     },
     "execution_count": 56,
     "metadata": {},
     "output_type": "execute_result"
    }
   ],
   "source": [
    "metrics.roc_auc_score(train, prob_est[:,1])"
   ]
  },
  {
   "cell_type": "code",
   "execution_count": 57,
   "metadata": {
    "collapsed": false
   },
   "outputs": [
    {
     "data": {
      "text/plain": [
       "1.0"
      ]
     },
     "execution_count": 57,
     "metadata": {},
     "output_type": "execute_result"
    }
   ],
   "source": [
    "metrics.precision_score(train, results)"
   ]
  },
  {
   "cell_type": "code",
   "execution_count": 58,
   "metadata": {
    "collapsed": false
   },
   "outputs": [
    {
     "data": {
      "text/plain": [
       "1.0"
      ]
     },
     "execution_count": 58,
     "metadata": {},
     "output_type": "execute_result"
    }
   ],
   "source": [
    "metrics.recall_score(train, results)"
   ]
  },
  {
   "cell_type": "code",
   "execution_count": 60,
   "metadata": {
    "collapsed": false
   },
   "outputs": [
    {
     "name": "stdout",
     "output_type": "stream",
     "text": [
      "             precision    recall  f1-score   support\n",
      "\n",
      "      False       1.00      1.00      1.00      1589\n",
      "       True       1.00      1.00      1.00       212\n",
      "\n",
      "avg / total       1.00      1.00      1.00      1801\n",
      "\n"
     ]
    }
   ],
   "source": [
    "print(metrics.classification_report(train, results))"
   ]
  },
  {
   "cell_type": "code",
   "execution_count": null,
   "metadata": {
    "collapsed": true
   },
   "outputs": [],
   "source": []
  }
 ],
 "metadata": {
  "kernelspec": {
   "display_name": "Python 3",
   "language": "python",
   "name": "python3"
  },
  "language_info": {
   "codemirror_mode": {
    "name": "ipython",
    "version": 3
   },
   "file_extension": ".py",
   "mimetype": "text/x-python",
   "name": "python",
   "nbconvert_exporter": "python",
   "pygments_lexer": "ipython3",
   "version": "3.4.1"
  }
 },
 "nbformat": 4,
 "nbformat_minor": 0
}
